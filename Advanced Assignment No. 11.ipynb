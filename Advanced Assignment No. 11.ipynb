{
 "cells": [
  {
   "cell_type": "markdown",
   "id": "4bded2a4",
   "metadata": {},
   "source": [
    "1) What is the concept of a metaclass ?\n",
    "\n",
    ":- Metaclass is a class whose instances are classes. Just ordinary class defines instances of certain object, a \n",
    "   metaclass defines behavior of certain class & their instances. Not all object oriented programming language supports\n",
    "   metaclass. Each language has it's own metaobject protocol.\n",
    "    "
   ]
  },
  {
   "cell_type": "markdown",
   "id": "9ad45449",
   "metadata": {},
   "source": [
    "2) What is the best way to declare a class's metaclass?\n",
    "\n",
    ":- Metaclass is called with name,bases and attributes of the class instantiate it. Metaclass is actually defines type\n",
    "   of the class. "
   ]
  },
  {
   "cell_type": "markdown",
   "id": "27ff6d91",
   "metadata": {},
   "source": [
    "3) How do class decorators overlap with metaclasses for handling classes ?\n",
    "\n",
    ":- Decorators are much, much simpler and more limited and therefore should be preferred whenever the \n",
    "   desired effect can be achieved with either a metaclass or a class decorator."
   ]
  },
  {
   "cell_type": "markdown",
   "id": "53f347c9",
   "metadata": {},
   "source": [
    "4) How do class decorators overlap with metaclasses for handling instances ?\n",
    "\n",
    ":- Class decorators allows us to add logic automatically to run when fuction is called or class instances is created.\n",
    "   Decorator syntax inserts name-rebinding logic to be run at the end of function and class definition statements—decorated\n",
    "   function and class names may be rebound to either augmented original objects, or to object proxies \n",
    "    that intercept later calls. "
   ]
  }
 ],
 "metadata": {
  "kernelspec": {
   "display_name": "Python 3 (ipykernel)",
   "language": "python",
   "name": "python3"
  },
  "language_info": {
   "codemirror_mode": {
    "name": "ipython",
    "version": 3
   },
   "file_extension": ".py",
   "mimetype": "text/x-python",
   "name": "python",
   "nbconvert_exporter": "python",
   "pygments_lexer": "ipython3",
   "version": "3.9.7"
  }
 },
 "nbformat": 4,
 "nbformat_minor": 5
}
